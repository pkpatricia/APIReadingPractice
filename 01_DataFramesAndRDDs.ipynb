{
  "cells": [
    {
      "cell_type": "markdown",
      "metadata": {
        "id": "view-in-github",
        "colab_type": "text"
      },
      "source": [
        "<a href=\"https://colab.research.google.com/github/pkpatricia/APIReadingPractice/blob/master/01_DataFramesAndRDDs.ipynb\" target=\"_parent\"><img src=\"https://colab.research.google.com/assets/colab-badge.svg\" alt=\"Open In Colab\"/></a>"
      ]
    },
    {
      "cell_type": "code",
      "source": [
        "spark"
      ],
      "metadata": {
        "application/vnd.databricks.v1+cell": {
          "title": "",
          "showTitle": false,
          "inputWidgets": {},
          "nuid": "dd241693-e4c9-4636-9e95-936cd4b8f05a"
        },
        "id": "9nsfUpgxLwah",
        "outputId": "2e8c3695-ce4c-47b1-f8a1-3439cbff95e3"
      },
      "outputs": [
        {
          "output_type": "display_data",
          "metadata": {
            "application/vnd.databricks.v1+output": {
              "datasetInfos": [],
              "data": "<div class=\"ansiout\">Out[1]: </div>",
              "removedWidgets": [],
              "addedWidgets": {},
              "metadata": {},
              "type": "html",
              "arguments": {}
            }
          },
          "data": {
            "text/html": [
              "<style scoped>\n  .ansiout {\n    display: block;\n    unicode-bidi: embed;\n    white-space: pre-wrap;\n    word-wrap: break-word;\n    word-break: break-all;\n    font-family: \"Source Code Pro\", \"Menlo\", monospace;;\n    font-size: 13px;\n    color: #555;\n    margin-left: 4px;\n    line-height: 19px;\n  }\n</style>\n<div class=\"ansiout\">Out[1]: </div>"
            ]
          }
        },
        {
          "output_type": "display_data",
          "metadata": {
            "application/vnd.databricks.v1+output": {
              "datasetInfos": [],
              "data": "\n            <div>\n                <p><b>SparkSession - hive</b></p>\n                \n        <div>\n            <p><b>SparkContext</b></p>\n\n            <p><a href=\"/?o=134177084656734#setting/sparkui/0403-023246-h89cgpug/driver-2801089818526643281\">Spark UI</a></p>\n\n            <dl>\n              <dt>Version</dt>\n                <dd><code>v3.2.1</code></dd>\n              <dt>Master</dt>\n                <dd><code>spark://10.139.64.5:7077</code></dd>\n              <dt>AppName</dt>\n                <dd><code>Databricks Shell</code></dd>\n            </dl>\n        </div>\n        \n            </div>\n        ",
              "textData": null,
              "removedWidgets": [],
              "addedWidgets": {},
              "metadata": {},
              "type": "htmlSandbox",
              "arguments": {}
            }
          },
          "data": {
            "text/html": [
              "\n            <div>\n                <p><b>SparkSession - hive</b></p>\n                \n        <div>\n            <p><b>SparkContext</b></p>\n\n            <p><a href=\"/?o=134177084656734#setting/sparkui/0403-023246-h89cgpug/driver-2801089818526643281\">Spark UI</a></p>\n\n            <dl>\n              <dt>Version</dt>\n                <dd><code>v3.2.1</code></dd>\n              <dt>Master</dt>\n                <dd><code>spark://10.139.64.5:7077</code></dd>\n              <dt>AppName</dt>\n                <dd><code>Databricks Shell</code></dd>\n            </dl>\n        </div>\n        \n            </div>\n        "
            ]
          }
        }
      ],
      "execution_count": null
    },
    {
      "cell_type": "code",
      "source": [
        "dbutils.help()"
      ],
      "metadata": {
        "application/vnd.databricks.v1+cell": {
          "title": "",
          "showTitle": false,
          "inputWidgets": {},
          "nuid": "43acb231-738f-41a4-9e5f-4d781f280618"
        },
        "id": "UkstOtMELwai",
        "outputId": "25b44d7c-1f68-4872-d544-b84dc60ef2c6"
      },
      "outputs": [
        {
          "output_type": "display_data",
          "metadata": {
            "application/vnd.databricks.v1+output": {
              "datasetInfos": [],
              "data": "<div class = \"ansiout\">\nThis module provides various utilities for users to interact with the rest of Databricks.\n  <h3></h3><b>credentials: DatabricksCredentialUtils</b> -> Utilities for interacting with credentials within notebooks<br /><b>data: DataUtils</b> -> Utilities for understanding and interacting with datasets (EXPERIMENTAL)<br /><b>fs: DbfsUtils</b> -> Manipulates the Databricks filesystem (DBFS) from the console<br /><b>jobs: JobsUtils</b> -> Utilities for leveraging jobs features<br /><b>library: LibraryUtils</b> -> Utilities for session isolated libraries<br /><b>meta: MetaUtils</b> -> Methods to hook into the compiler (EXPERIMENTAL)<br /><b>notebook: NotebookUtils</b> -> Utilities for the control flow of a notebook (EXPERIMENTAL)<br /><b>preview: Preview</b> -> Utilities under preview category<br /><b>secrets: SecretUtils</b> -> Provides utilities for leveraging secrets within notebooks<br /><b>widgets: WidgetsUtils</b> -> Methods to create and get bound value of input widgets inside notebooks<br /><br /></div>",
              "textData": null,
              "removedWidgets": [],
              "addedWidgets": {},
              "metadata": {},
              "type": "htmlSandbox",
              "arguments": {}
            }
          },
          "data": {
            "text/html": [
              "<div class = \"ansiout\">\nThis module provides various utilities for users to interact with the rest of Databricks.\n  <h3></h3><b>credentials: DatabricksCredentialUtils</b> -> Utilities for interacting with credentials within notebooks<br /><b>data: DataUtils</b> -> Utilities for understanding and interacting with datasets (EXPERIMENTAL)<br /><b>fs: DbfsUtils</b> -> Manipulates the Databricks filesystem (DBFS) from the console<br /><b>jobs: JobsUtils</b> -> Utilities for leveraging jobs features<br /><b>library: LibraryUtils</b> -> Utilities for session isolated libraries<br /><b>meta: MetaUtils</b> -> Methods to hook into the compiler (EXPERIMENTAL)<br /><b>notebook: NotebookUtils</b> -> Utilities for the control flow of a notebook (EXPERIMENTAL)<br /><b>preview: Preview</b> -> Utilities under preview category<br /><b>secrets: SecretUtils</b> -> Provides utilities for leveraging secrets within notebooks<br /><b>widgets: WidgetsUtils</b> -> Methods to create and get bound value of input widgets inside notebooks<br /><br /></div>"
            ]
          }
        }
      ],
      "execution_count": null
    },
    {
      "cell_type": "code",
      "source": [
        "dbutils.fs.ls(\"dbfs:/\")"
      ],
      "metadata": {
        "application/vnd.databricks.v1+cell": {
          "title": "",
          "showTitle": false,
          "inputWidgets": {},
          "nuid": "79199472-8c6a-47b9-afb3-f1b4f36d6b4d"
        },
        "id": "OyCBNMU6Lwai",
        "outputId": "16a82ba9-4e76-460e-93f7-95425c7b3282"
      },
      "outputs": [
        {
          "output_type": "display_data",
          "metadata": {
            "application/vnd.databricks.v1+output": {
              "datasetInfos": [],
              "data": "<div class=\"ansiout\">Out[3]: [FileInfo(path=&#39;dbfs:/FileStore/&#39;, name=&#39;FileStore/&#39;, size=0, modificationTime=1648953626000),\n FileInfo(path=&#39;dbfs:/databricks-datasets/&#39;, name=&#39;databricks-datasets/&#39;, size=0, modificationTime=0),\n FileInfo(path=&#39;dbfs:/databricks-results/&#39;, name=&#39;databricks-results/&#39;, size=0, modificationTime=0)]</div>",
              "removedWidgets": [],
              "addedWidgets": {},
              "metadata": {},
              "type": "html",
              "arguments": {}
            }
          },
          "data": {
            "text/html": [
              "<style scoped>\n  .ansiout {\n    display: block;\n    unicode-bidi: embed;\n    white-space: pre-wrap;\n    word-wrap: break-word;\n    word-break: break-all;\n    font-family: \"Source Code Pro\", \"Menlo\", monospace;;\n    font-size: 13px;\n    color: #555;\n    margin-left: 4px;\n    line-height: 19px;\n  }\n</style>\n<div class=\"ansiout\">Out[3]: [FileInfo(path=&#39;dbfs:/FileStore/&#39;, name=&#39;FileStore/&#39;, size=0, modificationTime=1648953626000),\n FileInfo(path=&#39;dbfs:/databricks-datasets/&#39;, name=&#39;databricks-datasets/&#39;, size=0, modificationTime=0),\n FileInfo(path=&#39;dbfs:/databricks-results/&#39;, name=&#39;databricks-results/&#39;, size=0, modificationTime=0)]</div>"
            ]
          }
        }
      ],
      "execution_count": null
    },
    {
      "cell_type": "code",
      "source": [
        "dbutils.fs.ls (\"/databricks-datasets\")"
      ],
      "metadata": {
        "application/vnd.databricks.v1+cell": {
          "title": "",
          "showTitle": false,
          "inputWidgets": {},
          "nuid": "533bb0fd-c9ac-4aef-976a-2d93367a04fb"
        },
        "id": "pVeIzBa4Lwaj",
        "outputId": "92dfc890-63c2-47dc-9c8b-1bc412a3760d"
      },
      "outputs": [
        {
          "output_type": "display_data",
          "metadata": {
            "application/vnd.databricks.v1+output": {
              "datasetInfos": [],
              "data": "<div class=\"ansiout\">Out[4]: [FileInfo(path=&#39;dbfs:/databricks-datasets/COVID/&#39;, name=&#39;COVID/&#39;, size=0, modificationTime=1648954530800),\n FileInfo(path=&#39;dbfs:/databricks-datasets/README.md&#39;, name=&#39;README.md&#39;, size=976, modificationTime=1532468253000),\n FileInfo(path=&#39;dbfs:/databricks-datasets/Rdatasets/&#39;, name=&#39;Rdatasets/&#39;, size=0, modificationTime=1648954530800),\n FileInfo(path=&#39;dbfs:/databricks-datasets/SPARK_README.md&#39;, name=&#39;SPARK_README.md&#39;, size=3359, modificationTime=1455043490000),\n FileInfo(path=&#39;dbfs:/databricks-datasets/adult/&#39;, name=&#39;adult/&#39;, size=0, modificationTime=1648954530800),\n FileInfo(path=&#39;dbfs:/databricks-datasets/airlines/&#39;, name=&#39;airlines/&#39;, size=0, modificationTime=1648954530800),\n FileInfo(path=&#39;dbfs:/databricks-datasets/amazon/&#39;, name=&#39;amazon/&#39;, size=0, modificationTime=1648954530800),\n FileInfo(path=&#39;dbfs:/databricks-datasets/asa/&#39;, name=&#39;asa/&#39;, size=0, modificationTime=1648954530800),\n FileInfo(path=&#39;dbfs:/databricks-datasets/atlas_higgs/&#39;, name=&#39;atlas_higgs/&#39;, size=0, modificationTime=1648954530800),\n FileInfo(path=&#39;dbfs:/databricks-datasets/bikeSharing/&#39;, name=&#39;bikeSharing/&#39;, size=0, modificationTime=1648954530800),\n FileInfo(path=&#39;dbfs:/databricks-datasets/cctvVideos/&#39;, name=&#39;cctvVideos/&#39;, size=0, modificationTime=1648954530800),\n FileInfo(path=&#39;dbfs:/databricks-datasets/credit-card-fraud/&#39;, name=&#39;credit-card-fraud/&#39;, size=0, modificationTime=1648954530800),\n FileInfo(path=&#39;dbfs:/databricks-datasets/cs100/&#39;, name=&#39;cs100/&#39;, size=0, modificationTime=1648954530800),\n FileInfo(path=&#39;dbfs:/databricks-datasets/cs110x/&#39;, name=&#39;cs110x/&#39;, size=0, modificationTime=1648954530800),\n FileInfo(path=&#39;dbfs:/databricks-datasets/cs190/&#39;, name=&#39;cs190/&#39;, size=0, modificationTime=1648954530800),\n FileInfo(path=&#39;dbfs:/databricks-datasets/data.gov/&#39;, name=&#39;data.gov/&#39;, size=0, modificationTime=1648954530800),\n FileInfo(path=&#39;dbfs:/databricks-datasets/definitive-guide/&#39;, name=&#39;definitive-guide/&#39;, size=0, modificationTime=1648954530800),\n FileInfo(path=&#39;dbfs:/databricks-datasets/delta-sharing/&#39;, name=&#39;delta-sharing/&#39;, size=0, modificationTime=1648954530800),\n FileInfo(path=&#39;dbfs:/databricks-datasets/flights/&#39;, name=&#39;flights/&#39;, size=0, modificationTime=1648954530800),\n FileInfo(path=&#39;dbfs:/databricks-datasets/flower_photos/&#39;, name=&#39;flower_photos/&#39;, size=0, modificationTime=1648954530800),\n FileInfo(path=&#39;dbfs:/databricks-datasets/flowers/&#39;, name=&#39;flowers/&#39;, size=0, modificationTime=1648954530800),\n FileInfo(path=&#39;dbfs:/databricks-datasets/genomics/&#39;, name=&#39;genomics/&#39;, size=0, modificationTime=1648954530800),\n FileInfo(path=&#39;dbfs:/databricks-datasets/hail/&#39;, name=&#39;hail/&#39;, size=0, modificationTime=1648954530800),\n FileInfo(path=&#39;dbfs:/databricks-datasets/iot/&#39;, name=&#39;iot/&#39;, size=0, modificationTime=1648954530800),\n FileInfo(path=&#39;dbfs:/databricks-datasets/iot-stream/&#39;, name=&#39;iot-stream/&#39;, size=0, modificationTime=1648954530800),\n FileInfo(path=&#39;dbfs:/databricks-datasets/learning-spark/&#39;, name=&#39;learning-spark/&#39;, size=0, modificationTime=1648954530801),\n FileInfo(path=&#39;dbfs:/databricks-datasets/learning-spark-v2/&#39;, name=&#39;learning-spark-v2/&#39;, size=0, modificationTime=1648954530801),\n FileInfo(path=&#39;dbfs:/databricks-datasets/lending-club-loan-stats/&#39;, name=&#39;lending-club-loan-stats/&#39;, size=0, modificationTime=1648954530801),\n FileInfo(path=&#39;dbfs:/databricks-datasets/med-images/&#39;, name=&#39;med-images/&#39;, size=0, modificationTime=1648954530801),\n FileInfo(path=&#39;dbfs:/databricks-datasets/mnist-digits/&#39;, name=&#39;mnist-digits/&#39;, size=0, modificationTime=1648954530801),\n FileInfo(path=&#39;dbfs:/databricks-datasets/news20.binary/&#39;, name=&#39;news20.binary/&#39;, size=0, modificationTime=1648954530801),\n FileInfo(path=&#39;dbfs:/databricks-datasets/nyctaxi/&#39;, name=&#39;nyctaxi/&#39;, size=0, modificationTime=1648954530801),\n FileInfo(path=&#39;dbfs:/databricks-datasets/nyctaxi-with-zipcodes/&#39;, name=&#39;nyctaxi-with-zipcodes/&#39;, size=0, modificationTime=1648954530801),\n FileInfo(path=&#39;dbfs:/databricks-datasets/online_retail/&#39;, name=&#39;online_retail/&#39;, size=0, modificationTime=1648954530801),\n FileInfo(path=&#39;dbfs:/databricks-datasets/overlap-join/&#39;, name=&#39;overlap-join/&#39;, size=0, modificationTime=1648954530801),\n FileInfo(path=&#39;dbfs:/databricks-datasets/power-plant/&#39;, name=&#39;power-plant/&#39;, size=0, modificationTime=1648954530801),\n FileInfo(path=&#39;dbfs:/databricks-datasets/retail-org/&#39;, name=&#39;retail-org/&#39;, size=0, modificationTime=1648954530801),\n FileInfo(path=&#39;dbfs:/databricks-datasets/rwe/&#39;, name=&#39;rwe/&#39;, size=0, modificationTime=1648954530801),\n FileInfo(path=&#39;dbfs:/databricks-datasets/sai-summit-2019-sf/&#39;, name=&#39;sai-summit-2019-sf/&#39;, size=0, modificationTime=1648954530801),\n FileInfo(path=&#39;dbfs:/databricks-datasets/sample_logs/&#39;, name=&#39;sample_logs/&#39;, size=0, modificationTime=1648954530801),\n FileInfo(path=&#39;dbfs:/databricks-datasets/samples/&#39;, name=&#39;samples/&#39;, size=0, modificationTime=1648954530801),\n FileInfo(path=&#39;dbfs:/databricks-datasets/sfo_customer_survey/&#39;, name=&#39;sfo_customer_survey/&#39;, size=0, modificationTime=1648954530801),\n FileInfo(path=&#39;dbfs:/databricks-datasets/sms_spam_collection/&#39;, name=&#39;sms_spam_collection/&#39;, size=0, modificationTime=1648954530801),\n FileInfo(path=&#39;dbfs:/databricks-datasets/songs/&#39;, name=&#39;songs/&#39;, size=0, modificationTime=1648954530801),\n FileInfo(path=&#39;dbfs:/databricks-datasets/structured-streaming/&#39;, name=&#39;structured-streaming/&#39;, size=0, modificationTime=1648954530801),\n FileInfo(path=&#39;dbfs:/databricks-datasets/timeseries/&#39;, name=&#39;timeseries/&#39;, size=0, modificationTime=1648954530801),\n FileInfo(path=&#39;dbfs:/databricks-datasets/tpch/&#39;, name=&#39;tpch/&#39;, size=0, modificationTime=1648954530801),\n FileInfo(path=&#39;dbfs:/databricks-datasets/warmup/&#39;, name=&#39;warmup/&#39;, size=0, modificationTime=1648954530801),\n FileInfo(path=&#39;dbfs:/databricks-datasets/weather/&#39;, name=&#39;weather/&#39;, size=0, modificationTime=1648954530801),\n FileInfo(path=&#39;dbfs:/databricks-datasets/wiki/&#39;, name=&#39;wiki/&#39;, size=0, modificationTime=1648954530801),\n FileInfo(path=&#39;dbfs:/databricks-datasets/wikipedia-datasets/&#39;, name=&#39;wikipedia-datasets/&#39;, size=0, modificationTime=1648954530801),\n FileInfo(path=&#39;dbfs:/databricks-datasets/wine-quality/&#39;, name=&#39;wine-quality/&#39;, size=0, modificationTime=1648954530801)]</div>",
              "removedWidgets": [],
              "addedWidgets": {},
              "metadata": {},
              "type": "html",
              "arguments": {}
            }
          },
          "data": {
            "text/html": [
              "<style scoped>\n  .ansiout {\n    display: block;\n    unicode-bidi: embed;\n    white-space: pre-wrap;\n    word-wrap: break-word;\n    word-break: break-all;\n    font-family: \"Source Code Pro\", \"Menlo\", monospace;;\n    font-size: 13px;\n    color: #555;\n    margin-left: 4px;\n    line-height: 19px;\n  }\n</style>\n<div class=\"ansiout\">Out[4]: [FileInfo(path=&#39;dbfs:/databricks-datasets/COVID/&#39;, name=&#39;COVID/&#39;, size=0, modificationTime=1648954530800),\n FileInfo(path=&#39;dbfs:/databricks-datasets/README.md&#39;, name=&#39;README.md&#39;, size=976, modificationTime=1532468253000),\n FileInfo(path=&#39;dbfs:/databricks-datasets/Rdatasets/&#39;, name=&#39;Rdatasets/&#39;, size=0, modificationTime=1648954530800),\n FileInfo(path=&#39;dbfs:/databricks-datasets/SPARK_README.md&#39;, name=&#39;SPARK_README.md&#39;, size=3359, modificationTime=1455043490000),\n FileInfo(path=&#39;dbfs:/databricks-datasets/adult/&#39;, name=&#39;adult/&#39;, size=0, modificationTime=1648954530800),\n FileInfo(path=&#39;dbfs:/databricks-datasets/airlines/&#39;, name=&#39;airlines/&#39;, size=0, modificationTime=1648954530800),\n FileInfo(path=&#39;dbfs:/databricks-datasets/amazon/&#39;, name=&#39;amazon/&#39;, size=0, modificationTime=1648954530800),\n FileInfo(path=&#39;dbfs:/databricks-datasets/asa/&#39;, name=&#39;asa/&#39;, size=0, modificationTime=1648954530800),\n FileInfo(path=&#39;dbfs:/databricks-datasets/atlas_higgs/&#39;, name=&#39;atlas_higgs/&#39;, size=0, modificationTime=1648954530800),\n FileInfo(path=&#39;dbfs:/databricks-datasets/bikeSharing/&#39;, name=&#39;bikeSharing/&#39;, size=0, modificationTime=1648954530800),\n FileInfo(path=&#39;dbfs:/databricks-datasets/cctvVideos/&#39;, name=&#39;cctvVideos/&#39;, size=0, modificationTime=1648954530800),\n FileInfo(path=&#39;dbfs:/databricks-datasets/credit-card-fraud/&#39;, name=&#39;credit-card-fraud/&#39;, size=0, modificationTime=1648954530800),\n FileInfo(path=&#39;dbfs:/databricks-datasets/cs100/&#39;, name=&#39;cs100/&#39;, size=0, modificationTime=1648954530800),\n FileInfo(path=&#39;dbfs:/databricks-datasets/cs110x/&#39;, name=&#39;cs110x/&#39;, size=0, modificationTime=1648954530800),\n FileInfo(path=&#39;dbfs:/databricks-datasets/cs190/&#39;, name=&#39;cs190/&#39;, size=0, modificationTime=1648954530800),\n FileInfo(path=&#39;dbfs:/databricks-datasets/data.gov/&#39;, name=&#39;data.gov/&#39;, size=0, modificationTime=1648954530800),\n FileInfo(path=&#39;dbfs:/databricks-datasets/definitive-guide/&#39;, name=&#39;definitive-guide/&#39;, size=0, modificationTime=1648954530800),\n FileInfo(path=&#39;dbfs:/databricks-datasets/delta-sharing/&#39;, name=&#39;delta-sharing/&#39;, size=0, modificationTime=1648954530800),\n FileInfo(path=&#39;dbfs:/databricks-datasets/flights/&#39;, name=&#39;flights/&#39;, size=0, modificationTime=1648954530800),\n FileInfo(path=&#39;dbfs:/databricks-datasets/flower_photos/&#39;, name=&#39;flower_photos/&#39;, size=0, modificationTime=1648954530800),\n FileInfo(path=&#39;dbfs:/databricks-datasets/flowers/&#39;, name=&#39;flowers/&#39;, size=0, modificationTime=1648954530800),\n FileInfo(path=&#39;dbfs:/databricks-datasets/genomics/&#39;, name=&#39;genomics/&#39;, size=0, modificationTime=1648954530800),\n FileInfo(path=&#39;dbfs:/databricks-datasets/hail/&#39;, name=&#39;hail/&#39;, size=0, modificationTime=1648954530800),\n FileInfo(path=&#39;dbfs:/databricks-datasets/iot/&#39;, name=&#39;iot/&#39;, size=0, modificationTime=1648954530800),\n FileInfo(path=&#39;dbfs:/databricks-datasets/iot-stream/&#39;, name=&#39;iot-stream/&#39;, size=0, modificationTime=1648954530800),\n FileInfo(path=&#39;dbfs:/databricks-datasets/learning-spark/&#39;, name=&#39;learning-spark/&#39;, size=0, modificationTime=1648954530801),\n FileInfo(path=&#39;dbfs:/databricks-datasets/learning-spark-v2/&#39;, name=&#39;learning-spark-v2/&#39;, size=0, modificationTime=1648954530801),\n FileInfo(path=&#39;dbfs:/databricks-datasets/lending-club-loan-stats/&#39;, name=&#39;lending-club-loan-stats/&#39;, size=0, modificationTime=1648954530801),\n FileInfo(path=&#39;dbfs:/databricks-datasets/med-images/&#39;, name=&#39;med-images/&#39;, size=0, modificationTime=1648954530801),\n FileInfo(path=&#39;dbfs:/databricks-datasets/mnist-digits/&#39;, name=&#39;mnist-digits/&#39;, size=0, modificationTime=1648954530801),\n FileInfo(path=&#39;dbfs:/databricks-datasets/news20.binary/&#39;, name=&#39;news20.binary/&#39;, size=0, modificationTime=1648954530801),\n FileInfo(path=&#39;dbfs:/databricks-datasets/nyctaxi/&#39;, name=&#39;nyctaxi/&#39;, size=0, modificationTime=1648954530801),\n FileInfo(path=&#39;dbfs:/databricks-datasets/nyctaxi-with-zipcodes/&#39;, name=&#39;nyctaxi-with-zipcodes/&#39;, size=0, modificationTime=1648954530801),\n FileInfo(path=&#39;dbfs:/databricks-datasets/online_retail/&#39;, name=&#39;online_retail/&#39;, size=0, modificationTime=1648954530801),\n FileInfo(path=&#39;dbfs:/databricks-datasets/overlap-join/&#39;, name=&#39;overlap-join/&#39;, size=0, modificationTime=1648954530801),\n FileInfo(path=&#39;dbfs:/databricks-datasets/power-plant/&#39;, name=&#39;power-plant/&#39;, size=0, modificationTime=1648954530801),\n FileInfo(path=&#39;dbfs:/databricks-datasets/retail-org/&#39;, name=&#39;retail-org/&#39;, size=0, modificationTime=1648954530801),\n FileInfo(path=&#39;dbfs:/databricks-datasets/rwe/&#39;, name=&#39;rwe/&#39;, size=0, modificationTime=1648954530801),\n FileInfo(path=&#39;dbfs:/databricks-datasets/sai-summit-2019-sf/&#39;, name=&#39;sai-summit-2019-sf/&#39;, size=0, modificationTime=1648954530801),\n FileInfo(path=&#39;dbfs:/databricks-datasets/sample_logs/&#39;, name=&#39;sample_logs/&#39;, size=0, modificationTime=1648954530801),\n FileInfo(path=&#39;dbfs:/databricks-datasets/samples/&#39;, name=&#39;samples/&#39;, size=0, modificationTime=1648954530801),\n FileInfo(path=&#39;dbfs:/databricks-datasets/sfo_customer_survey/&#39;, name=&#39;sfo_customer_survey/&#39;, size=0, modificationTime=1648954530801),\n FileInfo(path=&#39;dbfs:/databricks-datasets/sms_spam_collection/&#39;, name=&#39;sms_spam_collection/&#39;, size=0, modificationTime=1648954530801),\n FileInfo(path=&#39;dbfs:/databricks-datasets/songs/&#39;, name=&#39;songs/&#39;, size=0, modificationTime=1648954530801),\n FileInfo(path=&#39;dbfs:/databricks-datasets/structured-streaming/&#39;, name=&#39;structured-streaming/&#39;, size=0, modificationTime=1648954530801),\n FileInfo(path=&#39;dbfs:/databricks-datasets/timeseries/&#39;, name=&#39;timeseries/&#39;, size=0, modificationTime=1648954530801),\n FileInfo(path=&#39;dbfs:/databricks-datasets/tpch/&#39;, name=&#39;tpch/&#39;, size=0, modificationTime=1648954530801),\n FileInfo(path=&#39;dbfs:/databricks-datasets/warmup/&#39;, name=&#39;warmup/&#39;, size=0, modificationTime=1648954530801),\n FileInfo(path=&#39;dbfs:/databricks-datasets/weather/&#39;, name=&#39;weather/&#39;, size=0, modificationTime=1648954530801),\n FileInfo(path=&#39;dbfs:/databricks-datasets/wiki/&#39;, name=&#39;wiki/&#39;, size=0, modificationTime=1648954530801),\n FileInfo(path=&#39;dbfs:/databricks-datasets/wikipedia-datasets/&#39;, name=&#39;wikipedia-datasets/&#39;, size=0, modificationTime=1648954530801),\n FileInfo(path=&#39;dbfs:/databricks-datasets/wine-quality/&#39;, name=&#39;wine-quality/&#39;, size=0, modificationTime=1648954530801)]</div>"
            ]
          }
        }
      ],
      "execution_count": null
    },
    {
      "cell_type": "code",
      "source": [
        "dbutils.fs.ls (\"/databricks-datasets/asa/\")"
      ],
      "metadata": {
        "application/vnd.databricks.v1+cell": {
          "title": "",
          "showTitle": false,
          "inputWidgets": {},
          "nuid": "aad27e28-e919-4795-8512-1cf997f89b93"
        },
        "id": "C9R1SaazLwaj",
        "outputId": "a9091508-02be-491b-e1ab-0cf72225c1cf"
      },
      "outputs": [
        {
          "output_type": "display_data",
          "metadata": {
            "application/vnd.databricks.v1+output": {
              "datasetInfos": [],
              "data": "<div class=\"ansiout\">Out[10]: [FileInfo(path=&#39;dbfs:/databricks-datasets/asa/airlines/&#39;, name=&#39;airlines/&#39;, size=0, modificationTime=1648954697140),\n FileInfo(path=&#39;dbfs:/databricks-datasets/asa/planes/&#39;, name=&#39;planes/&#39;, size=0, modificationTime=1648954697140),\n FileInfo(path=&#39;dbfs:/databricks-datasets/asa/readme.txt&#39;, name=&#39;readme.txt&#39;, size=170, modificationTime=1459247089000),\n FileInfo(path=&#39;dbfs:/databricks-datasets/asa/small/&#39;, name=&#39;small/&#39;, size=0, modificationTime=1648954697140)]</div>",
              "removedWidgets": [],
              "addedWidgets": {},
              "metadata": {},
              "type": "html",
              "arguments": {}
            }
          },
          "data": {
            "text/html": [
              "<style scoped>\n  .ansiout {\n    display: block;\n    unicode-bidi: embed;\n    white-space: pre-wrap;\n    word-wrap: break-word;\n    word-break: break-all;\n    font-family: \"Source Code Pro\", \"Menlo\", monospace;;\n    font-size: 13px;\n    color: #555;\n    margin-left: 4px;\n    line-height: 19px;\n  }\n</style>\n<div class=\"ansiout\">Out[10]: [FileInfo(path=&#39;dbfs:/databricks-datasets/asa/airlines/&#39;, name=&#39;airlines/&#39;, size=0, modificationTime=1648954697140),\n FileInfo(path=&#39;dbfs:/databricks-datasets/asa/planes/&#39;, name=&#39;planes/&#39;, size=0, modificationTime=1648954697140),\n FileInfo(path=&#39;dbfs:/databricks-datasets/asa/readme.txt&#39;, name=&#39;readme.txt&#39;, size=170, modificationTime=1459247089000),\n FileInfo(path=&#39;dbfs:/databricks-datasets/asa/small/&#39;, name=&#39;small/&#39;, size=0, modificationTime=1648954697140)]</div>"
            ]
          }
        }
      ],
      "execution_count": null
    },
    {
      "cell_type": "code",
      "source": [
        "dbutils.fs.ls (\"/databricks-datasets/asa/small\")"
      ],
      "metadata": {
        "application/vnd.databricks.v1+cell": {
          "title": "",
          "showTitle": false,
          "inputWidgets": {},
          "nuid": "9bac822d-3c8b-4284-aa1d-254dd7fa4f12"
        },
        "id": "QbAwXXXTLwaj",
        "outputId": "b101e275-72bd-4d88-dfc0-5e60b0ab6784"
      },
      "outputs": [
        {
          "output_type": "display_data",
          "metadata": {
            "application/vnd.databricks.v1+output": {
              "datasetInfos": [],
              "data": "<div class=\"ansiout\">Out[9]: [FileInfo(path=&#39;dbfs:/databricks-datasets/asa/small/small.csv&#39;, name=&#39;small.csv&#39;, size=20411051, modificationTime=1459311537000)]</div>",
              "removedWidgets": [],
              "addedWidgets": {},
              "metadata": {},
              "type": "html",
              "arguments": {}
            }
          },
          "data": {
            "text/html": [
              "<style scoped>\n  .ansiout {\n    display: block;\n    unicode-bidi: embed;\n    white-space: pre-wrap;\n    word-wrap: break-word;\n    word-break: break-all;\n    font-family: \"Source Code Pro\", \"Menlo\", monospace;;\n    font-size: 13px;\n    color: #555;\n    margin-left: 4px;\n    line-height: 19px;\n  }\n</style>\n<div class=\"ansiout\">Out[9]: [FileInfo(path=&#39;dbfs:/databricks-datasets/asa/small/small.csv&#39;, name=&#39;small.csv&#39;, size=20411051, modificationTime=1459311537000)]</div>"
            ]
          }
        }
      ],
      "execution_count": null
    },
    {
      "cell_type": "code",
      "source": [
        "%fs\n",
        "\n",
        "ls /databricks-datasets/asa/small"
      ],
      "metadata": {
        "application/vnd.databricks.v1+cell": {
          "title": "",
          "showTitle": false,
          "inputWidgets": {},
          "nuid": "1386ba56-3414-46ba-9d42-0797629e8f84"
        },
        "id": "BjaRquTPLwaj",
        "outputId": "c0d00242-da53-41d1-f9fa-f34c7bb38abc"
      },
      "outputs": [
        {
          "output_type": "display_data",
          "metadata": {
            "application/vnd.databricks.v1+output": {
              "overflow": false,
              "datasetInfos": [],
              "data": [
                [
                  "dbfs:/databricks-datasets/asa/small/small.csv",
                  "small.csv",
                  20411051,
                  1459311537000
                ]
              ],
              "plotOptions": {
                "displayType": "table",
                "customPlotOptions": {},
                "pivotColumns": null,
                "pivotAggregation": null,
                "xColumns": null,
                "yColumns": null
              },
              "columnCustomDisplayInfos": {},
              "aggType": "",
              "isJsonSchema": true,
              "removedWidgets": [],
              "aggSchema": [],
              "schema": [
                {
                  "name": "path",
                  "type": "\"string\"",
                  "metadata": "{}"
                },
                {
                  "name": "name",
                  "type": "\"string\"",
                  "metadata": "{}"
                },
                {
                  "name": "size",
                  "type": "\"long\"",
                  "metadata": "{}"
                },
                {
                  "name": "modificationTime",
                  "type": "\"long\"",
                  "metadata": "{}"
                }
              ],
              "aggError": "",
              "aggData": [],
              "addedWidgets": {},
              "metadata": {
                "isDbfsCommandResult": false
              },
              "dbfsResultPath": null,
              "type": "table",
              "aggOverflow": false,
              "aggSeriesLimitReached": false,
              "arguments": {}
            }
          },
          "data": {
            "text/html": [
              "<style scoped>\n  .table-result-container {\n    max-height: 300px;\n    overflow: auto;\n  }\n  table, th, td {\n    border: 1px solid black;\n    border-collapse: collapse;\n  }\n  th, td {\n    padding: 5px;\n  }\n  th {\n    text-align: left;\n  }\n</style><div class='table-result-container'><table class='table-result'><thead style='background-color: white'><tr><th>path</th><th>name</th><th>size</th><th>modificationTime</th></tr></thead><tbody><tr><td>dbfs:/databricks-datasets/asa/small/small.csv</td><td>small.csv</td><td>20411051</td><td>1459311537000</td></tr></tbody></table></div>"
            ]
          }
        }
      ],
      "execution_count": null
    },
    {
      "cell_type": "code",
      "source": [
        "asa_small_df = spark.read.csv(\"dbfs:/databricks-datasets/asa/small/small.csv\", header = True)\n",
        "\n",
        "type(asa_small_df)"
      ],
      "metadata": {
        "application/vnd.databricks.v1+cell": {
          "title": "",
          "showTitle": false,
          "inputWidgets": {},
          "nuid": "b1a22c6e-b21c-4bd9-92b4-9f58b012406e"
        },
        "id": "amxls0SSLwak",
        "outputId": "e1fba4ef-04e6-4470-c81b-29c76bddf705"
      },
      "outputs": [
        {
          "output_type": "display_data",
          "metadata": {
            "application/vnd.databricks.v1+output": {
              "datasetInfos": [],
              "data": "<div class=\"ansiout\">Out[13]: pyspark.sql.dataframe.DataFrame</div>",
              "removedWidgets": [],
              "addedWidgets": {},
              "metadata": {},
              "type": "html",
              "arguments": {}
            }
          },
          "data": {
            "text/html": [
              "<style scoped>\n  .ansiout {\n    display: block;\n    unicode-bidi: embed;\n    white-space: pre-wrap;\n    word-wrap: break-word;\n    word-break: break-all;\n    font-family: \"Source Code Pro\", \"Menlo\", monospace;;\n    font-size: 13px;\n    color: #555;\n    margin-left: 4px;\n    line-height: 19px;\n  }\n</style>\n<div class=\"ansiout\">Out[13]: pyspark.sql.dataframe.DataFrame</div>"
            ]
          }
        }
      ],
      "execution_count": null
    },
    {
      "cell_type": "code",
      "source": [
        "asa_small_rdd = asa_small_df.rdd\n",
        "\n",
        "type(asa_small_rdd)"
      ],
      "metadata": {
        "application/vnd.databricks.v1+cell": {
          "title": "",
          "showTitle": false,
          "inputWidgets": {},
          "nuid": "30014a86-844b-40fc-abb5-5a6a8747ea44"
        },
        "id": "J-Y9p-40Lwak",
        "outputId": "d9e4847e-d649-4fb4-ef55-c8084d5c90de"
      },
      "outputs": [
        {
          "output_type": "display_data",
          "metadata": {
            "application/vnd.databricks.v1+output": {
              "datasetInfos": [],
              "data": "<div class=\"ansiout\">Out[14]: pyspark.rdd.RDD</div>",
              "removedWidgets": [],
              "addedWidgets": {},
              "metadata": {},
              "type": "html",
              "arguments": {}
            }
          },
          "data": {
            "text/html": [
              "<style scoped>\n  .ansiout {\n    display: block;\n    unicode-bidi: embed;\n    white-space: pre-wrap;\n    word-wrap: break-word;\n    word-break: break-all;\n    font-family: \"Source Code Pro\", \"Menlo\", monospace;;\n    font-size: 13px;\n    color: #555;\n    margin-left: 4px;\n    line-height: 19px;\n  }\n</style>\n<div class=\"ansiout\">Out[14]: pyspark.rdd.RDD</div>"
            ]
          }
        }
      ],
      "execution_count": null
    },
    {
      "cell_type": "code",
      "source": [
        "asa_small_rdd.count()"
      ],
      "metadata": {
        "application/vnd.databricks.v1+cell": {
          "title": "",
          "showTitle": false,
          "inputWidgets": {},
          "nuid": "597d89d4-2f14-4334-a05a-1aaf7a78fbf7"
        },
        "id": "uSewBhSQLwak",
        "outputId": "5f0fc33d-4efd-4956-8e5e-8f8343e68228"
      },
      "outputs": [
        {
          "output_type": "display_data",
          "metadata": {
            "application/vnd.databricks.v1+output": {
              "datasetInfos": [],
              "data": "<div class=\"ansiout\">Out[15]: 200000</div>",
              "removedWidgets": [],
              "addedWidgets": {},
              "metadata": {},
              "type": "html",
              "arguments": {}
            }
          },
          "data": {
            "text/html": [
              "<style scoped>\n  .ansiout {\n    display: block;\n    unicode-bidi: embed;\n    white-space: pre-wrap;\n    word-wrap: break-word;\n    word-break: break-all;\n    font-family: \"Source Code Pro\", \"Menlo\", monospace;;\n    font-size: 13px;\n    color: #555;\n    margin-left: 4px;\n    line-height: 19px;\n  }\n</style>\n<div class=\"ansiout\">Out[15]: 200000</div>"
            ]
          }
        }
      ],
      "execution_count": null
    },
    {
      "cell_type": "code",
      "source": [
        "asa_small_rdd.first()"
      ],
      "metadata": {
        "application/vnd.databricks.v1+cell": {
          "title": "",
          "showTitle": false,
          "inputWidgets": {},
          "nuid": "3794012f-bb36-434c-9333-fa50f40fce0a"
        },
        "id": "A7JCFoQrLwak",
        "outputId": "1119b25f-8c42-404f-9600-3b1b2e13f2b2"
      },
      "outputs": [
        {
          "output_type": "display_data",
          "metadata": {
            "application/vnd.databricks.v1+output": {
              "datasetInfos": [],
              "data": "<div class=\"ansiout\">Out[16]: Row(Year=&#39;2002&#39;, Month=&#39;12&#39;, DayofMonth=&#39;31&#39;, DayOfWeek=&#39;2&#39;, DepTime=&#39;1415&#39;, CRSDepTime=&#39;1420&#39;, ArrTime=&#39;2058&#39;, CRSArrTime=&#39;2117&#39;, UniqueCarrier=&#39;UA&#39;, FlightNum=&#39;48&#39;, TailNum=&#39;N598UA&#39;, ActualElapsedTime=&#39;283&#39;, CRSElapsedTime=&#39;297&#39;, AirTime=&#39;272&#39;, ArrDelay=&#39;-19&#39;, DepDelay=&#39;-5&#39;, Origin=&#39;LIH&#39;, Dest=&#39;SFO&#39;, Distance=&#39;2447&#39;, TaxiIn=&#39;4&#39;, TaxiOut=&#39;7&#39;, Cancelled=&#39;0&#39;, CancellationCode=&#39;NA&#39;, Diverted=&#39;0&#39;, CarrierDelay=&#39;NA&#39;, WeatherDelay=&#39;NA&#39;, NASDelay=&#39;NA&#39;, SecurityDelay=&#39;NA&#39;, LateAircraftDelay=&#39;NA&#39;)</div>",
              "removedWidgets": [],
              "addedWidgets": {},
              "metadata": {},
              "type": "html",
              "arguments": {}
            }
          },
          "data": {
            "text/html": [
              "<style scoped>\n  .ansiout {\n    display: block;\n    unicode-bidi: embed;\n    white-space: pre-wrap;\n    word-wrap: break-word;\n    word-break: break-all;\n    font-family: \"Source Code Pro\", \"Menlo\", monospace;;\n    font-size: 13px;\n    color: #555;\n    margin-left: 4px;\n    line-height: 19px;\n  }\n</style>\n<div class=\"ansiout\">Out[16]: Row(Year=&#39;2002&#39;, Month=&#39;12&#39;, DayofMonth=&#39;31&#39;, DayOfWeek=&#39;2&#39;, DepTime=&#39;1415&#39;, CRSDepTime=&#39;1420&#39;, ArrTime=&#39;2058&#39;, CRSArrTime=&#39;2117&#39;, UniqueCarrier=&#39;UA&#39;, FlightNum=&#39;48&#39;, TailNum=&#39;N598UA&#39;, ActualElapsedTime=&#39;283&#39;, CRSElapsedTime=&#39;297&#39;, AirTime=&#39;272&#39;, ArrDelay=&#39;-19&#39;, DepDelay=&#39;-5&#39;, Origin=&#39;LIH&#39;, Dest=&#39;SFO&#39;, Distance=&#39;2447&#39;, TaxiIn=&#39;4&#39;, TaxiOut=&#39;7&#39;, Cancelled=&#39;0&#39;, CancellationCode=&#39;NA&#39;, Diverted=&#39;0&#39;, CarrierDelay=&#39;NA&#39;, WeatherDelay=&#39;NA&#39;, NASDelay=&#39;NA&#39;, SecurityDelay=&#39;NA&#39;, LateAircraftDelay=&#39;NA&#39;)</div>"
            ]
          }
        }
      ],
      "execution_count": null
    },
    {
      "cell_type": "code",
      "source": [
        ""
      ],
      "metadata": {
        "application/vnd.databricks.v1+cell": {
          "title": "",
          "showTitle": false,
          "inputWidgets": {},
          "nuid": "a56d1c39-7334-4da2-82e3-83adf4594d06"
        },
        "id": "uTfYIGmdLwak"
      },
      "outputs": [],
      "execution_count": null
    }
  ],
  "metadata": {
    "application/vnd.databricks.v1+notebook": {
      "notebookName": "DataFramesAndRDDs",
      "dashboards": [],
      "notebookMetadata": {
        "pythonIndentUnit": 4
      },
      "language": "python",
      "widgets": {},
      "notebookOrigID": 1810787101685965
    },
    "colab": {
      "name": "01.DataFramesAndRDDs.ipynb",
      "provenance": [],
      "include_colab_link": true
    }
  },
  "nbformat": 4,
  "nbformat_minor": 0
}